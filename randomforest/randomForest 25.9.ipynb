{
 "cells": [
  {
   "cell_type": "code",
   "execution_count": 55,
   "id": "05ddfebc-cdd8-405d-9e70-4dea3b09f665",
   "metadata": {},
   "outputs": [
    {
     "name": "stdout",
     "output_type": "stream",
     "text": [
      "Done\n"
     ]
    }
   ],
   "source": [
    "import pandas as pd\n",
    "import numpy as np\n",
    "from sklearn.model_selection import train_test_split, GridSearchCV\n",
    "from sklearn.preprocessing import StandardScaler\n",
    "from sklearn.impute import SimpleImputer\n",
    "from sklearn.ensemble import RandomForestRegressor\n",
    "from sklearn.metrics import mean_absolute_error\n",
    "from xgboost import XGBRegressor\n",
    "from sklearn.feature_selection import SelectFromModel\n",
    "\n",
    "# Load the data\n",
    "train_features = pd.read_csv('dengue_features_train.csv')\n",
    "train_labels = pd.read_csv('dengue_labels_train.csv')\n",
    "test_features = pd.read_csv('dengue_features_test.csv')\n",
    "\n",
    "# Merge training features and labels\n",
    "train_data = pd.merge(train_features, train_labels, on=['city', 'year', 'weekofyear'])\n",
    "\n",
    "# Function to preprocess data\n",
    "def preprocess_data(data):\n",
    "    # Convert date to datetime\n",
    "    data['week_start_date'] = pd.to_datetime(data['week_start_date'])\n",
    "    \n",
    "    # Create new time-based features\n",
    "    data['month'] = data['week_start_date'].dt.month\n",
    "    data['day_of_year'] = data['week_start_date'].dt.dayofyear\n",
    "    data['is_high_season'] = data['month'].isin([6, 7, 8, 9, 10, 11]).astype(int)\n",
    "    \n",
    "    # Create lag features\n",
    "    for col in ['precipitation_amt_mm', 'reanalysis_specific_humidity_g_per_kg', 'reanalysis_dew_point_temp_k', 'station_avg_temp_c', 'station_min_temp_c']:\n",
    "        data[f'{col}_lag1'] = data.groupby('city')[col].shift(1)\n",
    "        data[f'{col}_lag2'] = data.groupby('city')[col].shift(2)\n",
    "    \n",
    "    # Create rolling mean features\n",
    "    for col in ['precipitation_amt_mm', 'reanalysis_specific_humidity_g_per_kg', 'reanalysis_dew_point_temp_k', 'station_avg_temp_c', 'station_min_temp_c']:\n",
    "        data[f'{col}_rolling_mean'] = data.groupby('city')[col].rolling(window=4, min_periods=1).mean().reset_index(0, drop=True)\n",
    "    \n",
    "    # Drop non-numeric columns\n",
    "    columns_to_drop = ['week_start_date']\n",
    "    data = data.drop(columns=columns_to_drop)\n",
    "    \n",
    "    # Create a copy of 'city' column before encoding\n",
    "    data['city_original'] = data['city']\n",
    "    \n",
    "    # Convert 'city' to numeric\n",
    "    data['city'] = data['city'].map({'sj': 0, 'iq': 1})\n",
    "    \n",
    "    return data\n",
    "\n",
    "# Preprocess train and test data\n",
    "train_data = preprocess_data(train_data)\n",
    "test_features = preprocess_data(test_features)\n",
    "\n",
    "# Separate features and target\n",
    "X = train_data.drop(['total_cases', 'city_original'], axis=1)\n",
    "y = train_data['total_cases']\n",
    "\n",
    "print(\"Done\")"
   ]
  },
  {
   "cell_type": "code",
   "execution_count": 57,
   "id": "1777adcf-1e9c-447f-9ad9-7d47e4a458be",
   "metadata": {},
   "outputs": [],
   "source": [
    "# Handle missing values\n",
    "imputer = SimpleImputer(strategy='mean')\n",
    "X_imputed = pd.DataFrame(imputer.fit_transform(X), columns=X.columns)\n",
    "test_imputed = pd.DataFrame(imputer.transform(test_features.drop('city_original', axis=1)), columns=X.columns)\n",
    "\n",
    "# Scale features\n",
    "scaler = StandardScaler()\n",
    "X_scaled = pd.DataFrame(scaler.fit_transform(X_imputed), columns=X_imputed.columns)\n",
    "test_scaled = pd.DataFrame(scaler.transform(test_imputed), columns=test_imputed.columns)"
   ]
  },
  {
   "cell_type": "code",
   "execution_count": 59,
   "id": "c05fcf59-27f4-42f4-b883-584c702a9991",
   "metadata": {},
   "outputs": [
    {
     "name": "stdout",
     "output_type": "stream",
     "text": [
      "Done\n"
     ]
    }
   ],
   "source": [
    "# Feature selection\n",
    "selector = SelectFromModel(estimator=RandomForestRegressor(n_estimators=100, random_state=42))\n",
    "selector.fit(X_scaled, y)\n",
    "X_selected = selector.transform(X_scaled)\n",
    "test_selected = selector.transform(test_scaled)\n",
    "\n",
    "# Split the data\n",
    "X_train, X_val, y_train, y_val = train_test_split(X_selected, y, test_size=0.2, random_state=42)\n",
    "\n",
    "# Define models\n",
    "rf_model = RandomForestRegressor(random_state=42)\n",
    "xgb_model = XGBRegressor(random_state=42)\n",
    "\n",
    "# Define parameter grids\n",
    "rf_param_grid = {\n",
    "    'n_estimators': [100, 200],\n",
    "    'max_depth': [None, 10],\n",
    "    'min_samples_split': [2, 5]\n",
    "}\n",
    "\n",
    "xgb_param_grid = {\n",
    "    'n_estimators': [100, 200],\n",
    "    'max_depth': [3, 5],\n",
    "    'learning_rate': [0.01, 0.1]\n",
    "}\n",
    "\n",
    "print(\"Done\")"
   ]
  },
  {
   "cell_type": "code",
   "execution_count": 60,
   "id": "a6173994-1b5b-40f3-89f0-610073eaddd7",
   "metadata": {},
   "outputs": [
    {
     "name": "stdout",
     "output_type": "stream",
     "text": [
      "Done\n",
      "Done\n"
     ]
    }
   ],
   "source": [
    "# Perform grid search\n",
    "rf_grid_search = GridSearchCV(rf_model, rf_param_grid, cv=5, scoring='neg_mean_absolute_error', n_jobs=-1)\n",
    "rf_grid_search.fit(X_train, y_train)\n",
    "print(\"Done\")\n",
    "\n",
    "xgb_grid_search = GridSearchCV(xgb_model, xgb_param_grid, cv=5, scoring='neg_mean_absolute_error', n_jobs=-1)\n",
    "xgb_grid_search.fit(X_train, y_train)\n",
    "print(\"Done\")"
   ]
  },
  {
   "cell_type": "code",
   "execution_count": 63,
   "id": "02040a90-2068-4f75-b23e-d52e29119d48",
   "metadata": {},
   "outputs": [
    {
     "name": "stdout",
     "output_type": "stream",
     "text": [
      "Done\n"
     ]
    }
   ],
   "source": [
    "# Make predictions on validation set\n",
    "rf_val_predictions = rf_grid_search.best_estimator_.predict(X_val)\n",
    "xgb_val_predictions = xgb_grid_search.best_estimator_.predict(X_val)\n",
    "print(\"Done\")"
   ]
  },
  {
   "cell_type": "code",
   "execution_count": 65,
   "id": "48bf4072-c343-49ee-b509-f3965adb683d",
   "metadata": {},
   "outputs": [
    {
     "name": "stdout",
     "output_type": "stream",
     "text": [
      "Random Forest Validation MAE: 13.626986301369863\n",
      "XGBoost Validation MAE: 11.720913735460746\n",
      "Done\n"
     ]
    }
   ],
   "source": [
    "# Calculate MAE for both models\n",
    "rf_mae = mean_absolute_error(y_val, rf_val_predictions)\n",
    "xgb_mae = mean_absolute_error(y_val, xgb_val_predictions)\n",
    "\n",
    "print(f\"Random Forest Validation MAE: {rf_mae}\")\n",
    "print(f\"XGBoost Validation MAE: {xgb_mae}\")\n",
    "print(\"Done\")"
   ]
  },
  {
   "cell_type": "code",
   "execution_count": 70,
   "id": "714eb77c-cab6-4ae9-a186-80672ea7188e",
   "metadata": {},
   "outputs": [
    {
     "name": "stdout",
     "output_type": "stream",
     "text": [
      "Predictions saved to 'dengue_predictions.csv'\n"
     ]
    }
   ],
   "source": [
    "# Choose the best model\n",
    "best_model = rf_grid_search.best_estimator_ if rf_mae < xgb_mae else xgb_grid_search.best_estimator_\n",
    "\n",
    "# Make predictions on test data\n",
    "test_predictions = best_model.predict(test_selected)\n",
    "\n",
    "# Create submission dataframe\n",
    "submission = pd.DataFrame({\n",
    "    'city': test_features['city_original'],  # Use the original city names\n",
    "    'year': test_features['year'],\n",
    "    'weekofyear': test_features['weekofyear'],\n",
    "    'total_cases': np.round(test_predictions).astype(int)\n",
    "})\n",
    "\n",
    "# Save predictions to CSV\n",
    "submission.to_csv('dengue_predictions.csv', index=False)\n",
    "\n",
    "print(\"Predictions saved to 'dengue_predictions.csv'\")"
   ]
  },
  {
   "cell_type": "code",
   "execution_count": null,
   "id": "3233f990-e177-489c-813e-6d7cf9ca30cc",
   "metadata": {},
   "outputs": [],
   "source": []
  }
 ],
 "metadata": {
  "kernelspec": {
   "display_name": "Python 3 (ipykernel)",
   "language": "python",
   "name": "python3"
  },
  "language_info": {
   "codemirror_mode": {
    "name": "ipython",
    "version": 3
   },
   "file_extension": ".py",
   "mimetype": "text/x-python",
   "name": "python",
   "nbconvert_exporter": "python",
   "pygments_lexer": "ipython3",
   "version": "3.12.7"
  }
 },
 "nbformat": 4,
 "nbformat_minor": 5
}
