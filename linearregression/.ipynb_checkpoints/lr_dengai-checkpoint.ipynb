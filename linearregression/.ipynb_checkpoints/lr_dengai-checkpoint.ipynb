{
 "cells": [
  {
   "cell_type": "code",
   "execution_count": 17,
   "id": "91261d27-97f8-4a83-ac88-71c3dd791356",
   "metadata": {},
   "outputs": [
    {
     "name": "stdout",
     "output_type": "stream",
     "text": [
      "Validation Mean Absolute Error: 24.065185362129128\n"
     ]
    }
   ],
   "source": [
    "# Import necessary libraries\n",
    "import pandas as pd\n",
    "from sklearn.linear_model import LinearRegression\n",
    "from sklearn.metrics import mean_absolute_error\n",
    "from sklearn.model_selection import train_test_split\n",
    "from sklearn.preprocessing import StandardScaler\n",
    "import numpy as np\n",
    "\n",
    "#Load the data from CSV files\n",
    "test_data_features = pd.read_csv('test_data_features.csv')\n",
    "training_data_features = pd.read_csv('training_data_features.csv')\n",
    "training_data_labels = pd.read_csv('training_data_labels.csv')\n",
    "\n",
    "# Merge training features and labels on 'city', 'year', 'weekofyear'\n",
    "train_data = training_data_features.merge(training_data_labels, on=['city', 'year', 'weekofyear'])\n",
    "\n",
    "# Drop unnecessary columns and separate the target variable\n",
    "X = train_data.drop(columns=['total_cases', 'week_start_date'])\n",
    "y = train_data['total_cases']\n",
    "\n",
    "# Convert categorical variable 'city' to numerical using one-hot encoding\n",
    "X = pd.get_dummies(X, columns=['city'], drop_first=True)\n",
    "\n",
    "# Handle missing values by filling NaNs with the mean for numeric columns only\n",
    "X.fillna(X.select_dtypes(include=[np.number]).mean(), inplace=True)\n",
    "test_data_features.fillna(test_data_features.select_dtypes(include=[np.number]).mean(), inplace=True)\n",
    "\n",
    "# Apply the same dummy encoding for test data and drop 'week_start_date' as it’s not needed\n",
    "test_data = pd.get_dummies(test_data_features.drop(columns=['week_start_date']), columns=['city'], drop_first=True)\n",
    "\n",
    "# Standardize the features\n",
    "scaler = StandardScaler()\n",
    "X_scaled = scaler.fit_transform(X)\n",
    "test_data_scaled = scaler.transform(test_data)\n",
    "\n",
    "# Split the training data for evaluation\n",
    "X_train, X_val, y_train, y_val = train_test_split(X_scaled, y, test_size=0.2, random_state=42)\n",
    "\n",
    "# Initialize and train the Linear Regression model\n",
    "model = LinearRegression()\n",
    "model.fit(X_train, y_train)\n",
    "\n",
    "# Evaluate the model using MAE on validation set\n",
    "y_val_pred = model.predict(X_val)\n",
    "mae_val = mean_absolute_error(y_val, y_val_pred)\n",
    "print(f\"Validation Mean Absolute Error: {mae_val}\")\n",
    "\n",
    "# Predict on the test data\n",
    "test_predictions = model.predict(test_data_scaled)\n",
    "\n",
    "# Convert predictions to integer values as required by the submission format\n",
    "test_predictions = np.round(test_predictions).astype(int)\n",
    "\n",
    "# Prepare the output DataFrame in the required format\n",
    "submission = test_data_features[['city', 'year', 'weekofyear']].copy()\n",
    "submission['total_cases'] = test_predictions\n",
    "\n",
    "# Display the first few rows of the submission format\n",
    "submission.head()\n",
    "\n",
    "# Save the submission DataFrame to a CSV file for submission\n",
    "submission.to_csv('dengai_submission.csv', index=False)\n",
    "\n"
   ]
  },
  {
   "cell_type": "code",
   "execution_count": null,
   "id": "cb5e1c46-c373-47f8-9fc1-54e0ec190f80",
   "metadata": {},
   "outputs": [],
   "source": []
  }
 ],
 "metadata": {
  "kernelspec": {
   "display_name": "Python 3 (ipykernel)",
   "language": "python",
   "name": "python3"
  },
  "language_info": {
   "codemirror_mode": {
    "name": "ipython",
    "version": 3
   },
   "file_extension": ".py",
   "mimetype": "text/x-python",
   "name": "python",
   "nbconvert_exporter": "python",
   "pygments_lexer": "ipython3",
   "version": "3.12.4"
  }
 },
 "nbformat": 4,
 "nbformat_minor": 5
}
